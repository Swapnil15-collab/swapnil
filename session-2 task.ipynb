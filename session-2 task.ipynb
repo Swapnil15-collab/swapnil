{
 "cells": [
  {
   "cell_type": "markdown",
   "id": "ab460475-a7d3-4435-aab5-98be920ad5ba",
   "metadata": {},
   "source": [
    "# 1) Write a program that will give you in hand monthly salary after deduction on CTC - HRA(10%), DA(5%), PF(3%) and taxes deduction as below:\n",
    "\n",
    "Salary(Lakhs) : Tax(%)\n",
    "\n",
    "Below 5 : 0%\n",
    "\n",
    "5-10 : 10%\n",
    "\n",
    "10-20 : 20%\n",
    "\n",
    "aboove 20 : 30%"
   ]
  },
  {
   "cell_type": "code",
   "execution_count": 2,
   "id": "f635a6d1-53ef-4d88-bce3-cf131dcda7d9",
   "metadata": {},
   "outputs": [
    {
     "name": "stdin",
     "output_type": "stream",
     "text": [
      "Enter your CTC in Lakhs:  10\n"
     ]
    },
    {
     "name": "stdout",
     "output_type": "stream",
     "text": [
      "Your monthly salary after deductions is: 47833.33 INR\n"
     ]
    }
   ],
   "source": [
    "def calculate(ctc):\n",
    "    hra_deduction = 0.1 * ctc\n",
    "    da_deduction = 0.05 * ctc\n",
    "    pf_deduction = 0.03 * ctc\n",
    "    \n",
    "    taxable_income = ctc - hra_deduction - da_deduction - pf_deduction\n",
    "    \n",
    "    if ctc < 5:\n",
    "        tax_percentage = 0\n",
    "    elif 5 <= ctc < 10:\n",
    "        tax_percentage = 0.1\n",
    "    elif 10 <= ctc < 20:\n",
    "        tax_percentage = 0.2\n",
    "    else:\n",
    "        tax_percentage = 0.3\n",
    "    \n",
    "    tax_amount = taxable_income * tax_percentage\n",
    "    \n",
    "    monthly_salary = (ctc - hra_deduction - da_deduction - pf_deduction - tax_amount) / 12\n",
    "    \n",
    "    return monthly_salary\n",
    "\n",
    "\n",
    "ctc = float(input(\"Enter your CTC in Lakhs: \")) * 100000  # Convert Lakhs to actual amount\n",
    "monthly_salary = calculate(ctc)\n",
    "print(f\"Your monthly salary after deductions is: {monthly_salary:.2f} INR\")\n"
   ]
  },
  {
   "cell_type": "markdown",
   "id": "edf01f7b-d748-48c7-87bc-ceb0f83e2584",
   "metadata": {},
   "source": [
    "# 2)Write a program that take a user input of three angles and will find out whether it can form a triangle or not."
   ]
  },
  {
   "cell_type": "code",
   "execution_count": 5,
   "id": "3818e83f-9424-46c0-a9ca-c5bef38c039a",
   "metadata": {},
   "outputs": [
    {
     "name": "stdin",
     "output_type": "stream",
     "text": [
      "Enter first angle:  150\n",
      "Enter second angle:  35\n",
      "Enter third angle:  70\n"
     ]
    },
    {
     "name": "stdout",
     "output_type": "stream",
     "text": [
      "No, these angles cannot form a triangle.\n"
     ]
    }
   ],
   "source": [
    "def is_triangle(angle1, angle2, angle3):\n",
    "    \n",
    "    if angle1 > 0 and angle2 > 0 and angle3 > 0 and angle1 + angle2 + angle3 == 180:\n",
    "        return True\n",
    "    else:\n",
    "        return False\n",
    "angle1 = input(\"Enter first angle: \")\n",
    "angle2 = input(\"Enter second angle: \")\n",
    "angle3 = input(\"Enter third angle: \")\n",
    "if angle1.isdigit() and angle2.isdigit() and angle3.isdigit():\n",
    "    angle1 = int(angle1)\n",
    "    angle2 = int(angle2)\n",
    "    angle3 = int(angle3)\n",
    "    if is_triangle(angle1, angle2, angle3):\n",
    "        print(\"Yes, these angles can form a triangle.\")\n",
    "    else:\n",
    "        print(\"No, these angles cannot form a triangle.\")\n",
    "else:\n",
    "    print(\"Invalid input! Please enter valid angles (numeric values).\")\n"
   ]
  },
  {
   "cell_type": "markdown",
   "id": "cefb1039-0800-4145-9cbc-cac39f509305",
   "metadata": {},
   "source": [
    "# 3) Write a program that will take user input of cost price and selling price and determines whether its a loss or a profit.\n"
   ]
  },
  {
   "cell_type": "code",
   "execution_count": 26,
   "id": "61739153-faa0-448c-9771-bbfb71e298f4",
   "metadata": {},
   "outputs": [
    {
     "name": "stdin",
     "output_type": "stream",
     "text": [
      "Enter the cost price:  150\n",
      "Enter the selling price:  150\n"
     ]
    },
    {
     "name": "stdout",
     "output_type": "stream",
     "text": [
      "No Profit No Loss\n"
     ]
    }
   ],
   "source": [
    "def calculate(cost_price, selling_price):\n",
    "    if cost_price <= 0 or selling_price <= 0:\n",
    "        return \"Invalid input: Prices must be positive numbers.\"\n",
    "    if selling_price > cost_price:\n",
    "        profit = selling_price - cost_price\n",
    "        return f\"Profit: You made a profit of {profit} units.\"\n",
    "    elif selling_price < cost_price:\n",
    "        loss = cost_price - selling_price\n",
    "        return f\"Loss: You incurred a loss of {loss} units.\"\n",
    "    else:\n",
    "        return \"No Profit No Loss\"\n",
    "cost_price_str = input(\"Enter the cost price: \")\n",
    "selling_price_str = input(\"Enter the selling price: \")\n",
    "if cost_price_str.isdigit() and selling_price_str.isdigit():\n",
    "    cost_price = float(cost_price_str)\n",
    "    selling_price = float(selling_price_str)\n",
    "    result = calculate(cost_price, selling_price)\n",
    "    print(result)\n",
    "else:\n",
    "    print(\"Invalid input! Please enter valid numeric values for cost price and selling price.\")\n"
   ]
  },
  {
   "cell_type": "markdown",
   "id": "13b58051-540f-4a32-a636-cd1b6da1fd0f",
   "metadata": {},
   "source": [
    "# 4)Write a menu-driven program:- Write a menu-driven program -\r\n",
    "cm to f,\r\n",
    "km to mil,s\r\n",
    "USD to ,NR\r\n",
    "exit"
   ]
  },
  {
   "cell_type": "code",
   "execution_count": 1,
   "id": "0f0c30dc-332e-4628-89c9-9812ea8d9ba7",
   "metadata": {},
   "outputs": [
    {
     "name": "stdout",
     "output_type": "stream",
     "text": [
      "which conversion you want do:\n",
      "1. Convert CM to Feet\n",
      "2. Convert KM to Miles\n",
      "3. Convert USD to INR\n",
      "4. Exit\n"
     ]
    },
    {
     "name": "stdin",
     "output_type": "stream",
     "text": [
      "Enter your choice (1/2/3/4):  1\n",
      "Enter length in CM:  1\n"
     ]
    },
    {
     "name": "stdout",
     "output_type": "stream",
     "text": [
      "1.0 CM is equal to 0.03 Feet.\n",
      "\n",
      "which conversion you want do:\n",
      "1. Convert CM to Feet\n",
      "2. Convert KM to Miles\n",
      "3. Convert USD to INR\n",
      "4. Exit\n"
     ]
    },
    {
     "name": "stdin",
     "output_type": "stream",
     "text": [
      "Enter your choice (1/2/3/4):  4\n"
     ]
    },
    {
     "name": "stdout",
     "output_type": "stream",
     "text": [
      "Exiting the program.\n"
     ]
    }
   ],
   "source": [
    "def cm_to_ft(cm):\n",
    "    return cm / 30.48\n",
    "\n",
    "def km_to_miles(km):\n",
    "    return km * 0.621371\n",
    "\n",
    "def usd_to_inr(usd):\n",
    "    return usd * 74.5  \n",
    "def display_menu():\n",
    "    print(\"which conversion you want do:\")\n",
    "    print(\"1. Convert CM to Feet\")\n",
    "    print(\"2. Convert KM to Miles\")\n",
    "    print(\"3. Convert USD to INR\")\n",
    "    print(\"4. Exit\")\n",
    "\n",
    "\n",
    "while True:\n",
    "    display_menu()\n",
    "    choice = input(\"Enter your choice (1/2/3/4): \")\n",
    "\n",
    "    if choice == '1':\n",
    "        cm = float(input(\"Enter length in CM: \"))\n",
    "        feet = cm_to_ft(cm)\n",
    "        print(f\"{cm} CM is equal to {feet:.2f} Feet.\\n\")\n",
    "    elif choice == '2':\n",
    "        km = float(input(\"Enter distance in KM: \"))\n",
    "        miles = km_to_miles(km)\n",
    "        print(f\"{km} KM is equal to {miles:.2f} Miles.\\n\")\n",
    "    elif choice == '3':\n",
    "        usd = float(input(\"Enter amount in USD: \"))\n",
    "        inr = usd_to_inr(usd)\n",
    "        print(f\"{usd} USD is equal to {inr:.2f} INR.\\n\")\n",
    "    elif choice == '4':\n",
    "        print(\"Exiting the program.\")\n",
    "        break\n",
    "    else:\n",
    "        print(\"Invalid choice! Please enter a valid option (1/2/3/4).\\n\")\n"
   ]
  },
  {
   "cell_type": "markdown",
   "id": "389f942a-b301-4a51-8481-45d2fb6dd9cb",
   "metadata": {},
   "source": [
    "# 5)Display Fibonacci series up to 10 terms"
   ]
  },
  {
   "cell_type": "code",
   "execution_count": 9,
   "id": "357ce5c8-bf31-40fc-b0d6-5f842c3f01df",
   "metadata": {},
   "outputs": [
    {
     "name": "stdout",
     "output_type": "stream",
     "text": [
      "Fibonacci series up to 10 terms:\n",
      "0\n",
      "1\n",
      "1\n",
      "2\n",
      "3\n",
      "5\n",
      "8\n",
      "13\n",
      "21\n",
      "34\n"
     ]
    }
   ],
   "source": [
    "def fibonacci_series(n):\n",
    "    sequence = [0, 1]\n",
    "    for i in range(2, n):\n",
    "        next_num = sequence[-1] + sequence[-2]\n",
    "        sequence.append(next_num)\n",
    "    return sequence\n",
    "num_terms = 10\n",
    "series = fibonacci_series(num_terms)\n",
    "print(\"Fibonacci series up to 10 terms:\")\n",
    "for term in series:\n",
    "    print(term)\n"
   ]
  },
  {
   "cell_type": "markdown",
   "id": "d52ee10d-5ce7-4ea6-813c-3a22f04c7b6d",
   "metadata": {},
   "source": [
    "# 6)Find the factorial of a given number."
   ]
  },
  {
   "cell_type": "code",
   "execution_count": 12,
   "id": "a6c724ac-4cf3-4d76-9125-5538a5c9567c",
   "metadata": {},
   "outputs": [
    {
     "name": "stdin",
     "output_type": "stream",
     "text": [
      "Enter  integer to find its factorial:  3\n"
     ]
    },
    {
     "name": "stdout",
     "output_type": "stream",
     "text": [
      "The factorial of 3 is: 6\n"
     ]
    }
   ],
   "source": [
    "def factorial(n):\n",
    "    if n == 0:\n",
    "        return 1\n",
    "    else:\n",
    "        return n * factorial(n - 1)\n",
    "n = int(input(\"Enter  integer to find its factorial: \"))\n",
    "if n < 0:\n",
    "    print(\"Factorial is not defined for negative numbers.\")\n",
    "else:\n",
    "    fact = factorial(n)\n",
    "    print(f\"The factorial of {n} is: {fact}\")\n"
   ]
  },
  {
   "cell_type": "markdown",
   "id": "2d888748-8c90-40c7-a029-ed9f938bc0b4",
   "metadata": {},
   "source": [
    "## 7)Reverse a given integer number"
   ]
  },
  {
   "cell_type": "code",
   "execution_count": 13,
   "id": "792a8540-f142-486a-af7d-04c287a119fb",
   "metadata": {},
   "outputs": [
    {
     "name": "stdin",
     "output_type": "stream",
     "text": [
      "Enter an integer to reverse:  53\n"
     ]
    },
    {
     "name": "stdout",
     "output_type": "stream",
     "text": [
      "The reversed number is: 35\n"
     ]
    }
   ],
   "source": [
    "def reverse_integer(n):\n",
    "    reversed_number = 0\n",
    "    remainder = 0\n",
    "    sign = -1 if n < 0 else 1\n",
    "    n = abs(n)\n",
    "    while n > 0:\n",
    "        remainder = n % 10\n",
    "        reversed_number = reversed_number * 10 + remainder\n",
    "        n = n // 10\n",
    "    return reversed_number * sign\n",
    "n = int(input(\"Enter an integer to reverse: \"))\n",
    "reversed_number = reverse_integer(n)\n",
    "print(f\"The reversed number is: {reversed_number}\")\n"
   ]
  },
  {
   "cell_type": "markdown",
   "id": "7dedf162-0bee-4deb-9157-b46037537b58",
   "metadata": {},
   "source": [
    "# 8)Take a user input as integer N. Find out the sum from 1 to N. If any number if divisible by 5, then skip that number. And if the sum is greater than 300, don't need to calculate the sum further more. Print the final result. And don't use for loop to solve this problem."
   ]
  },
  {
   "cell_type": "code",
   "execution_count": 18,
   "id": "8ecdc00f-db91-452b-893d-3c1be79c5dbe",
   "metadata": {},
   "outputs": [
    {
     "name": "stdin",
     "output_type": "stream",
     "text": [
      "Enter an integer N:  100\n"
     ]
    },
    {
     "name": "stdout",
     "output_type": "stream",
     "text": [
      "The sum from 1 to 100 : 390\n"
     ]
    }
   ],
   "source": [
    "def find(n, current_sum=0):\n",
    "    if n == 0:\n",
    "        return current_sum\n",
    "    if n % 5 == 0:\n",
    "        return find(n - 1, current_sum)\n",
    "    new_sum = current_sum + n\n",
    "    if new_sum > 300:\n",
    "        return new_sum\n",
    "    return find(n - 1, new_sum)\n",
    "N = int(input(\"Enter an integer N: \"))\n",
    "final_sum = find(N)\n",
    "print(f\"The sum from 1 to {N} : {final_sum}\")\n"
   ]
  },
  {
   "cell_type": "markdown",
   "id": "61babd90-c315-4ecf-bc2d-eaac86c83e44",
   "metadata": {},
   "source": [
    "# 9)Write a program that keeps on accepting a number from the user until the user enters Zero. Display the sum and average of all the numbers."
   ]
  },
  {
   "cell_type": "code",
   "execution_count": 23,
   "id": "01b51305-5f47-4b24-af00-bea525b6a96d",
   "metadata": {},
   "outputs": [
    {
     "name": "stdin",
     "output_type": "stream",
     "text": [
      "Enter a number (enter 0 to stop):  1\n",
      "Enter a number (enter 0 to stop):  2\n",
      "Enter a number (enter 0 to stop):  0\n"
     ]
    },
    {
     "name": "stdout",
     "output_type": "stream",
     "text": [
      "Sum of the numbers entered:  3\n",
      "Average of the numbers entered: 1.5\n"
     ]
    }
   ],
   "source": [
    "total_sum = 0\n",
    "count = 0\n",
    "while True:\n",
    "    num = int(input(\"Enter a number (enter 0 to stop): \"))\n",
    "    if num == 0:\n",
    "        break\n",
    "    total_sum += num\n",
    "    count += 1\n",
    "if count > 0:\n",
    "    average = total_sum / count\n",
    "else:\n",
    "    average = 0\n",
    "print(\"Sum of the numbers entered: \",total_sum)\n",
    "print(\"Average of the numbers entered:\", average)\n"
   ]
  },
  {
   "cell_type": "markdown",
   "id": "128e8a30-d39f-475a-8b45-925854a96ee4",
   "metadata": {},
   "source": [
    "# 10)Write a program which will find all such numbers which are divisible by 7 but are not a multiple of 5, between 2000 and 3200 (both included). The numbers obtained should be printed in a comma-separated sequence on a single line."
   ]
  },
  {
   "cell_type": "code",
   "execution_count": 24,
   "id": "9434006d-ea6c-45d9-9faf-998b887d575f",
   "metadata": {},
   "outputs": [
    {
     "name": "stdout",
     "output_type": "stream",
     "text": [
      "2002,2009,2016,2023,2037,2044,2051,2058,2072,2079,2086,2093,2107,2114,2121,2128,2142,2149,2156,2163,2177,2184,2191,2198,2212,2219,2226,2233,2247,2254,2261,2268,2282,2289,2296,2303,2317,2324,2331,2338,2352,2359,2366,2373,2387,2394,2401,2408,2422,2429,2436,2443,2457,2464,2471,2478,2492,2499,2506,2513,2527,2534,2541,2548,2562,2569,2576,2583,2597,2604,2611,2618,2632,2639,2646,2653,2667,2674,2681,2688,2702,2709,2716,2723,2737,2744,2751,2758,2772,2779,2786,2793,2807,2814,2821,2828,2842,2849,2856,2863,2877,2884,2891,2898,2912,2919,2926,2933,2947,2954,2961,2968,2982,2989,2996,3003,3017,3024,3031,3038,3052,3059,3066,3073,3087,3094,3101,3108,3122,3129,3136,3143,3157,3164,3171,3178,3192,3199\n"
     ]
    }
   ],
   "source": [
    "result = []\n",
    "for num in range(2000, 3201):\n",
    "    if num % 7 == 0 and num % 5 != 0:\n",
    "        result.append(num)\n",
    "print(\",\".join(map(str, result)))\n"
   ]
  },
  {
   "cell_type": "markdown",
   "id": "2f20a7b3-df9c-440e-a2ae-cb1b21d0fc42",
   "metadata": {},
   "source": []
  },
  {
   "cell_type": "code",
   "execution_count": null,
   "id": "2116a4f4-5506-47c9-86db-922b691b3b2b",
   "metadata": {},
   "outputs": [],
   "source": []
  }
 ],
 "metadata": {
  "kernelspec": {
   "display_name": "Python 3 (ipykernel)",
   "language": "python",
   "name": "python3"
  },
  "language_info": {
   "codemirror_mode": {
    "name": "ipython",
    "version": 3
   },
   "file_extension": ".py",
   "mimetype": "text/x-python",
   "name": "python",
   "nbconvert_exporter": "python",
   "pygments_lexer": "ipython3",
   "version": "3.11.7"
  }
 },
 "nbformat": 4,
 "nbformat_minor": 5
}
