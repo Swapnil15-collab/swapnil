{
 "cells": [
  {
   "cell_type": "markdown",
   "id": "85db09f4-679d-4776-bf96-ee424d6524b7",
   "metadata": {},
   "source": [
    "# 1)create two lists from the given list where first list contain odd numbers from the original list and second one will contain all the even numbers \n"
   ]
  },
  {
   "cell_type": "code",
   "execution_count": 7,
   "id": "6a39bbf1-309b-4a65-a3cb-04e75a5e6c8a",
   "metadata": {},
   "outputs": [
    {
     "name": "stdout",
     "output_type": "stream",
     "text": [
      "odd numbers from the list 1:= [1, 3, 5]\n",
      "even  numbers from the list 1:= [2, 4, 6]\n"
     ]
    }
   ],
   "source": [
    "L=[1,2,3,4,5,6]\n",
    "L2=[]  # L2 list store odd numbers from original list\n",
    "L3=[]  # L3 list store even numbers from original list\n",
    "for num in L:\n",
    "    if num%2 != 0:\n",
    "        L2.append(num)\n",
    "    else:\n",
    "        L3.append(num)\n",
    "print(\"odd numbers from the list 1:=\",L2)\n",
    "print(\"even  numbers from the list 1:=\",L3)"
   ]
  },
  {
   "cell_type": "markdown",
   "id": "31cb1255-86f9-4a58-9f08-d6db6b44762b",
   "metadata": {},
   "source": [
    "# 2) How to take list as input from user."
   ]
  },
  {
   "cell_type": "code",
   "execution_count": null,
   "id": "012aeac3-27ae-4758-a114-aabdc5d7746b",
   "metadata": {},
   "outputs": [],
   "source": [
    "# we can take list as a input using input() function in python"
   ]
  },
  {
   "cell_type": "code",
   "execution_count": 2,
   "id": "11234478-2b1c-4df1-8b43-a070f09893e4",
   "metadata": {},
   "outputs": [
    {
     "name": "stdin",
     "output_type": "stream",
     "text": [
      "enter the length of the list 5\n",
      " 10\n",
      " 20\n",
      " 7\n",
      " 5\n",
      " 5\n"
     ]
    },
    {
     "name": "stdout",
     "output_type": "stream",
     "text": [
      "[10, 20, 7, 5, 5]\n"
     ]
    }
   ],
   "source": [
    "list=[]\n",
    "size=int(input(\"enter the length of the list\"))\n",
    "for i in range(size):\n",
    "  list.append(int(input()))\n",
    "print(list)"
   ]
  },
  {
   "cell_type": "markdown",
   "id": "71aab000-f756-4d7f-b0f8-3c36c71d367c",
   "metadata": {},
   "source": [
    "# 3) Write a program to merge 2 list without using the + operator\n",
    "\n",
    "L1=[1,2,3,4] \n",
    "\n",
    " L2=[5,6,7,8]"
   ]
  },
  {
   "cell_type": "code",
   "execution_count": 9,
   "id": "2c0ff107-f358-4cc0-80e6-a9f2ec44e4bd",
   "metadata": {},
   "outputs": [
    {
     "name": "stdout",
     "output_type": "stream",
     "text": [
      "[1, 2, 3, 4, 5, 6, 7, 8]\n"
     ]
    }
   ],
   "source": [
    "# using extend() function \n",
    "\n",
    "L1=[1,2,3,4] \n",
    "L2=[5,6,7,8]\n",
    "L1.extend(L2)\n",
    "print(L1)"
   ]
  },
  {
   "cell_type": "code",
   "execution_count": 11,
   "id": "80f503d6-ef69-4d7d-9a88-147901491219",
   "metadata": {},
   "outputs": [
    {
     "name": "stdout",
     "output_type": "stream",
     "text": [
      "[1, 2, 3, 4, 5, 6, 7, 8]\n"
     ]
    }
   ],
   "source": [
    "# using a loop  \n",
    "\n",
    "L1=[1,2,3,4] \n",
    "L2=[5,6,7,8]\n",
    "for item in L2:\n",
    "    L1.append(item) \n",
    "\n",
    "print(L1)"
   ]
  },
  {
   "cell_type": "markdown",
   "id": "8f73c20e-f22a-438b-9e4c-ec5bd9e43a78",
   "metadata": {},
   "source": [
    "# 4) write a program to replace an item with a diffent item if found in  a list\n",
    "\n",
    "L=[1,2,3,4,5,3]\n",
    "\n",
    "replace 3 with 300"
   ]
  },
  {
   "cell_type": "code",
   "execution_count": 13,
   "id": "e14b84b9-467c-42e5-92e3-db2028e943f8",
   "metadata": {},
   "outputs": [
    {
     "name": "stdout",
     "output_type": "stream",
     "text": [
      "[1, 2, 300, 4, 5, 300]\n"
     ]
    }
   ],
   "source": [
    "def replace(L,olditem,newitem):  # L is list \n",
    "    for i in range(len(L)):\n",
    "        if L[i]==olditem:\n",
    "            L[i]=newitem\n",
    "\n",
    "L=[1,2,3,4,5,3]\n",
    "replace(L,3,300)\n",
    "print(L)\n"
   ]
  },
  {
   "cell_type": "markdown",
   "id": "dff7af0e-a956-475c-a93b-b9eb0a0908b9",
   "metadata": {},
   "source": [
    "# 5) write a program to that can convert 2D  list to 1D list"
   ]
  },
  {
   "cell_type": "code",
   "execution_count": 1,
   "id": "e629a348-4e27-404b-9777-f7679480437d",
   "metadata": {},
   "outputs": [
    {
     "name": "stdout",
     "output_type": "stream",
     "text": [
      "2D list is  [[1, 2, 3], [4, 5, 6], [7, 8, 9]]\n",
      "1D list is  [1, 2, 3, 4, 5, 6, 7, 8, 9]\n"
     ]
    }
   ],
   "source": [
    "# using extend()\n",
    "L1=[[1,2,3],[4,5,6],[7,8,9]]\n",
    "print(\"2D list is \",L1)\n",
    "L2=[]\n",
    "for i in L1:\n",
    "    L2.extend(i)\n",
    "print(\"1D list is \",L2)   "
   ]
  },
  {
   "cell_type": "code",
   "execution_count": 2,
   "id": "779e7ea8-3edf-4c8c-bde1-3d582251e381",
   "metadata": {},
   "outputs": [
    {
     "name": "stdout",
     "output_type": "stream",
     "text": [
      "[1, 2, 3, 4, 5, 6, 7, 8, 9]\n"
     ]
    }
   ],
   "source": [
    "# using nested loop\n",
    "def convert_to_1d(two_d_list):\n",
    "    one_d_list=[]\n",
    "    for sublist in two_d_list :\n",
    "        for element in sublist:\n",
    "            one_d_list.append(element)\n",
    "    return one_d_list\n",
    "two_d_list=[[1,2,3],[4,5,6],[7,8,9]]\n",
    "one_d_list=convert_to_1d(two_d_list)\n",
    "print(one_d_list)\n"
   ]
  },
  {
   "cell_type": "markdown",
   "id": "b07f6803-ed8a-4c55-8065-bdcedecf239e",
   "metadata": {},
   "source": [
    "## 6)write a program to remove duplicates from a list\n",
    "L=1,2,1,2,3,4,5,3,4"
   ]
  },
  {
   "cell_type": "code",
   "execution_count": 1,
   "id": "f4b3bc9d-c37b-4114-868c-19920438530a",
   "metadata": {},
   "outputs": [
    {
     "name": "stdout",
     "output_type": "stream",
     "text": [
      "[1, 2, 3, 4, 5]\n"
     ]
    }
   ],
   "source": [
    "def removed(lst1):\n",
    "    return list(set(lst1))\n",
    "L=1,2,1,2,3,4,5,3,4\n",
    "L=removed(L)\n",
    "print(L)\n"
   ]
  },
  {
   "cell_type": "markdown",
   "id": "c4771d0b-df04-4d24-97b3-43782fa42ecd",
   "metadata": {},
   "source": [
    "# 7)write a program to check if a list is in ascending order \n",
    "\n"
   ]
  },
  {
   "cell_type": "code",
   "execution_count": 3,
   "id": "6b4c255a-7ed9-45ed-b7a5-2f2f8e39900e",
   "metadata": {},
   "outputs": [
    {
     "name": "stdout",
     "output_type": "stream",
     "text": [
      "True\n",
      "False\n"
     ]
    }
   ],
   "source": [
    "def check(lst):\n",
    "    return lst==sorted(lst)\n",
    "\n",
    "l1=[1,2,3,4]\n",
    "l2=[7,4,3,1,2]\n",
    "print(check(l1))\n",
    "print(check(l2))"
   ]
  },
  {
   "cell_type": "code",
   "execution_count": null,
   "id": "1dd78688-0ebb-4087-874e-0149b3280e42",
   "metadata": {},
   "outputs": [],
   "source": []
  }
 ],
 "metadata": {
  "kernelspec": {
   "display_name": "Python 3 (ipykernel)",
   "language": "python",
   "name": "python3"
  },
  "language_info": {
   "codemirror_mode": {
    "name": "ipython",
    "version": 3
   },
   "file_extension": ".py",
   "mimetype": "text/x-python",
   "name": "python",
   "nbconvert_exporter": "python",
   "pygments_lexer": "ipython3",
   "version": "3.11.7"
  }
 },
 "nbformat": 4,
 "nbformat_minor": 5
}
